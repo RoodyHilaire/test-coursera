{
 "cells": [
  {
   "cell_type": "markdown",
   "id": "9fad37d6-e822-46b9-92f4-f349f556f7a0",
   "metadata": {},
   "source": [
    "# Data Science Tools and Ecosystem"
   ]
  },
  {
   "cell_type": "markdown",
   "id": "7129e096-5ad1-4315-ad82-53a1535a47c2",
   "metadata": {},
   "source": []
  },
  {
   "cell_type": "markdown",
   "id": "2949c038-5578-4791-85f7-ebccff712e84",
   "metadata": {},
   "source": [
    "In this notebook, Data Science Tools and Ecosystem are summarized."
   ]
  },
  {
   "cell_type": "markdown",
   "id": "69d9bfff-120d-4b4c-b6b5-399b84d8de02",
   "metadata": {},
   "source": [
    "**Objectives:**\n",
    "- List popular languages for Data Science\n",
    "- List popular libraries for Data Science\n",
    "- List development environment open-source tools for Data Science"
   ]
  },
  {
   "cell_type": "markdown",
   "id": "ecd6697b-5e29-406a-bc9f-342628bbc6e7",
   "metadata": {},
   "source": [
    "Some of the popular languages that Data Scientists use are:\n",
    "1. Python\n",
    "2. R\n",
    "3. Java"
   ]
  },
  {
   "cell_type": "markdown",
   "id": "dc7dfcfe-a565-406a-a9b0-02a01b605ca2",
   "metadata": {},
   "source": [
    "Some of the commonly used libraries used by Data Scientists include:\n",
    "1. Scikit-learn\n",
    "2. Tensorflow\n",
    "3. Caret"
   ]
  },
  {
   "cell_type": "code",
   "execution_count": null,
   "id": "734af301-22da-4cc8-bb44-4879c80160ae",
   "metadata": {},
   "outputs": [],
   "source": []
  },
  {
   "cell_type": "markdown",
   "id": "081aaec4-0f5d-4818-86a7-d2f073d73e2c",
   "metadata": {},
   "source": [
    "| Data Science Tools       |\n",
    "|-------------|\n",
    "| Jupyter Notebook      |\n",
    "| Visual Studio Code     |\n",
    "| Rstudio    |\n"
   ]
  },
  {
   "cell_type": "markdown",
   "id": "2dd429e8-7ecb-4490-801e-c6c97cd968e5",
   "metadata": {},
   "source": [
    "### Below are a few examples of evaluating arithmetic expressions in Python"
   ]
  },
  {
   "cell_type": "code",
   "execution_count": null,
   "id": "c189de08-a88d-422f-bc22-056e96ac3d59",
   "metadata": {},
   "outputs": [],
   "source": []
  },
  {
   "cell_type": "code",
   "execution_count": 3,
   "id": "2b64612b-5b0c-43e9-825a-2845a641dfa0",
   "metadata": {},
   "outputs": [
    {
     "data": {
      "text/plain": [
       "17"
      ]
     },
     "execution_count": 3,
     "metadata": {},
     "output_type": "execute_result"
    }
   ],
   "source": [
    "# This a simple arithmetic expression to mutiply then add integers\n",
    "(3*4)+5\n"
   ]
  },
  {
   "cell_type": "code",
   "execution_count": 4,
   "id": "cf476a12-1e26-4374-98cd-745f6d6712cb",
   "metadata": {},
   "outputs": [
    {
     "data": {
      "text/plain": [
       "3.3333333333333335"
      ]
     },
     "execution_count": 4,
     "metadata": {},
     "output_type": "execute_result"
    }
   ],
   "source": [
    "# This will convert 200 minutes to hours by diving by 60\n",
    "200/60"
   ]
  },
  {
   "cell_type": "code",
   "execution_count": null,
   "id": "31fb42e8-8667-4219-96ca-1a0a4848bd32",
   "metadata": {},
   "outputs": [],
   "source": []
  },
  {
   "cell_type": "markdown",
   "id": "ac5c6e9b-8b80-49bf-babc-7d6ec683c663",
   "metadata": {},
   "source": [
    "## Author\n",
    "Roody Hilaire"
   ]
  },
  {
   "cell_type": "code",
   "execution_count": null,
   "id": "79e5a38a-7b5c-4b47-8056-47f425e282cf",
   "metadata": {},
   "outputs": [],
   "source": []
  },
  {
   "cell_type": "code",
   "execution_count": null,
   "id": "9752e460-5a8a-4269-b0d1-6961d0d551b6",
   "metadata": {},
   "outputs": [],
   "source": []
  },
  {
   "cell_type": "code",
   "execution_count": null,
   "id": "7902bd26-ee25-4b4e-af38-fe354bd0bd60",
   "metadata": {},
   "outputs": [],
   "source": []
  },
  {
   "cell_type": "code",
   "execution_count": null,
   "id": "6d761c0c-28f5-47fa-803c-c5aad09f1942",
   "metadata": {},
   "outputs": [],
   "source": []
  },
  {
   "cell_type": "code",
   "execution_count": null,
   "id": "7ed7f961-e7c1-4848-95c6-a7d7ba3ff2e0",
   "metadata": {},
   "outputs": [],
   "source": []
  },
  {
   "cell_type": "code",
   "execution_count": null,
   "id": "938ada0b-8942-42ee-aa94-f4dc1c80d88e",
   "metadata": {},
   "outputs": [],
   "source": []
  }
 ],
 "metadata": {
  "kernelspec": {
   "display_name": "Python 3 (ipykernel)",
   "language": "python",
   "name": "python3"
  },
  "language_info": {
   "codemirror_mode": {
    "name": "ipython",
    "version": 3
   },
   "file_extension": ".py",
   "mimetype": "text/x-python",
   "name": "python",
   "nbconvert_exporter": "python",
   "pygments_lexer": "ipython3",
   "version": "3.13.4"
  }
 },
 "nbformat": 4,
 "nbformat_minor": 5
}
